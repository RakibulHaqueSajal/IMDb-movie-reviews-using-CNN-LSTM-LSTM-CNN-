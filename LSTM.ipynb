{
  "nbformat": 4,
  "nbformat_minor": 0,
  "metadata": {
    "colab": {
      "name": "Thesis2.ipynb",
      "version": "0.3.2",
      "provenance": []
    },
    "kernelspec": {
      "name": "python3",
      "display_name": "Python 3"
    },
    "accelerator": "GPU"
  },
  "cells": [
    {
      "cell_type": "code",
      "metadata": {
        "id": "zE2fZJzQFYHS",
        "colab_type": "code",
        "outputId": "14496a16-2301-4ad5-830a-1dd3ce90520f",
        "colab": {
          "base_uri": "https://localhost:8080/",
          "height": 34
        }
      },
      "source": [
        "\n",
        "import numpy\n",
        "from keras.datasets import imdb\n",
        "from keras.models import Sequential\n",
        "from keras.layers import Dense,Dropout\n",
        "from keras.layers import Flatten\n",
        "from keras.layers.convolutional import Conv1D\n",
        "from keras.layers.convolutional import MaxPooling1D\n",
        "from keras.layers.embeddings import Embedding\n",
        "from keras.preprocessing import sequence\n",
        "from keras.layers import LSTM\n",
        "# fix random seed for reproducibility\n",
        "seed = 7\n",
        "numpy.random.seed(seed)"
      ],
      "execution_count": 0,
      "outputs": [
        {
          "output_type": "stream",
          "text": [
            "Using TensorFlow backend.\n"
          ],
          "name": "stderr"
        }
      ]
    },
    {
      "cell_type": "code",
      "metadata": {
        "id": "WordYR8tA2z8",
        "colab_type": "code",
        "colab": {}
      },
      "source": [
        ""
      ],
      "execution_count": 0,
      "outputs": []
    },
    {
      "cell_type": "code",
      "metadata": {
        "id": "rAFT9uNWVsm-",
        "colab_type": "code",
        "colab": {}
      },
      "source": [
        "# load the dataset but only keep the top n words, zero the rest\n",
        "top_words = 8000\n",
        "(X_train, y_train), (X_test, y_test) = imdb.load_data(num_words=top_words)\n",
        "\n",
        "\n",
        "# pad dataset to a maximum review length in words\n",
        "max_words = 500\n",
        "X_train = sequence.pad_sequences(X_train, maxlen=max_words)\n",
        "X_test = sequence.pad_sequences(X_test, maxlen=max_words)\n",
        "\n",
        "X = numpy.concatenate((X_train, X_test), axis=0)\n",
        "y = numpy.concatenate((y_train, y_test), axis=0)\n",
        "X_train=X[0:35000]\n",
        "X_test=X[35000:]\n",
        "y_train=y[0:35000]\n",
        "y_test=y[35000: ] "
      ],
      "execution_count": 0,
      "outputs": []
    },
    {
      "cell_type": "code",
      "metadata": {
        "id": "elHsihKeWGYe",
        "colab_type": "code",
        "colab": {}
      },
      "source": [
        "\n",
        "model = Sequential()\n",
        "model.add(Embedding(top_words, 100, input_length=max_words))\n",
        "model.add(LSTM(200))\n",
        "model.add(Dropout(0.8))\n",
        "model.add(Dense(1, activation='sigmoid'))\n",
        "model.compile(loss='binary_crossentropy', optimizer='adam', metrics=['accuracy'])\n",
        "print(model.summary())\n",
        "\n",
        "\n",
        "# Fit the model\n",
        "model.fit(X_train, y_train, validation_split=0.2, epochs=3, batch_size=128, verbose=2)\n",
        "# Final evaluation of the model\n",
        "scores = model.evaluate(X_test, y_test, verbose=0)\n",
        "print(\"Accuracy: %.2f%%\" % (scores[1]*100))\n"
      ],
      "execution_count": 0,
      "outputs": []
    },
    {
      "cell_type": "code",
      "metadata": {
        "id": "CjdsGbNzK2bE",
        "colab_type": "code",
        "outputId": "0ad1e712-2d41-4511-912c-4dbabd71ca0c",
        "colab": {
          "base_uri": "https://localhost:8080/",
          "height": 289
        }
      },
      "source": [
        "model = Sequential()\n",
        "model.add(Embedding(top_words, 100, input_length=max_words))\n",
        "model.add(LSTM(200))\n",
        "model.add(Dropout(0.8))\n",
        "model.add(Dense(1, activation='sigmoid'))\n",
        "model.compile(loss='binary_crossentropy', optimizer='adam', metrics=['accuracy'])\n",
        "print(model.summary())"
      ],
      "execution_count": 0,
      "outputs": [
        {
          "output_type": "stream",
          "text": [
            "_________________________________________________________________\n",
            "Layer (type)                 Output Shape              Param #   \n",
            "=================================================================\n",
            "embedding_2 (Embedding)      (None, 500, 100)          800000    \n",
            "_________________________________________________________________\n",
            "lstm_2 (LSTM)                (None, 200)               240800    \n",
            "_________________________________________________________________\n",
            "dropout_2 (Dropout)          (None, 200)               0         \n",
            "_________________________________________________________________\n",
            "dense_2 (Dense)              (None, 1)                 201       \n",
            "=================================================================\n",
            "Total params: 1,041,001\n",
            "Trainable params: 1,041,001\n",
            "Non-trainable params: 0\n",
            "_________________________________________________________________\n",
            "None\n"
          ],
          "name": "stdout"
        }
      ]
    },
    {
      "cell_type": "code",
      "metadata": {
        "id": "erlx_2vTK62-",
        "colab_type": "code",
        "outputId": "524a575c-f696-4531-d5fd-9945a66a8ce9",
        "colab": {
          "base_uri": "https://localhost:8080/",
          "height": 153
        }
      },
      "source": [
        "# Fit the model\n",
        "model.fit(X_train, y_train, validation_split=0.2, epochs=3, batch_size=128, verbose=2)\n",
        "# Final evaluation of the model\n",
        "scores = model.evaluate(X_test, y_test, verbose=0)\n",
        "print(\"Accuracy: %.2f%%\" % (scores[1]*100))\n"
      ],
      "execution_count": 0,
      "outputs": [
        {
          "output_type": "stream",
          "text": [
            "Train on 28000 samples, validate on 7000 samples\n",
            "Epoch 1/3\n",
            " - 240s - loss: 0.5490 - acc: 0.7167 - val_loss: 0.4667 - val_acc: 0.7807\n",
            "Epoch 2/3\n",
            " - 244s - loss: 0.3264 - acc: 0.8680 - val_loss: 0.3379 - val_acc: 0.8566\n",
            "Epoch 3/3\n",
            " - 236s - loss: 0.2642 - acc: 0.8997 - val_loss: 0.3209 - val_acc: 0.8723\n",
            "Accuracy: 87.73%\n"
          ],
          "name": "stdout"
        }
      ]
    },
    {
      "cell_type": "code",
      "metadata": {
        "id": "rJo3PCoGA5F6",
        "colab_type": "code",
        "colab": {}
      },
      "source": [
        "y_pred=model.predict_proba(X_test)"
      ],
      "execution_count": 0,
      "outputs": []
    },
    {
      "cell_type": "code",
      "metadata": {
        "id": "O3qy_PSeRE4V",
        "colab_type": "code",
        "colab": {}
      },
      "source": [
        "test_size=15000\n",
        "for i in range(test_size):\n",
        "    if y_pred[i]>0.4:\n",
        "        y_pred[i]=1\n",
        "    else:\n",
        "        y_pred[i]=0"
      ],
      "execution_count": 0,
      "outputs": []
    },
    {
      "cell_type": "code",
      "metadata": {
        "id": "z9YpI9EERW0a",
        "colab_type": "code",
        "outputId": "af749f40-5f97-4c07-e331-136d4fe45935",
        "colab": {
          "base_uri": "https://localhost:8080/",
          "height": 51
        }
      },
      "source": [
        "from sklearn.metrics import confusion_matrix\n",
        "cm=confusion_matrix(y_test,y_pred)\n",
        "print(cm)"
      ],
      "execution_count": 0,
      "outputs": [
        {
          "output_type": "stream",
          "text": [
            "[[6147 1326]\n",
            " [ 619 6908]]\n"
          ],
          "name": "stdout"
        }
      ]
    },
    {
      "cell_type": "code",
      "metadata": {
        "id": "Ct3GGqNcRa0G",
        "colab_type": "code",
        "colab": {}
      },
      "source": [
        "tp=cm[0][0]\n",
        "fn=cm[0][1]\n",
        "fp=cm[1][0]\n",
        "tn=cm[1][1]\n",
        "\n",
        "errorrate=((fp+fn)/(tp+fn+fp+tn))\n",
        "accuracy=((tp+tn)/(tp+fn+fp+tn))\n",
        "sensitivity=(tp/(tp+fn))\n",
        "specificity=(tn/(tn+fp))\n",
        "precision=(tp/(tp+fp))\n",
        "fpr=1-specificity\n",
        "f1_score=(2*precision*sensitivity)/(precision +sensitivity)"
      ],
      "execution_count": 0,
      "outputs": []
    },
    {
      "cell_type": "code",
      "metadata": {
        "id": "XNOVlYDRRjvu",
        "colab_type": "code",
        "outputId": "8c472896-2c53-476f-f589-c16a2afb531b",
        "colab": {
          "base_uri": "https://localhost:8080/",
          "height": 255
        }
      },
      "source": [
        "print(\"ERRORRATE\")\n",
        "print(errorrate)\n",
        "print(\"accuracy\")\n",
        "print(accuracy)\n",
        "print(\"sensitivity\")\n",
        "print(sensitivity)\n",
        "print(\"specificity\")\n",
        "print(specificity)\n",
        "print(\"precision\")\n",
        "print(precision)\n",
        "print(\"fpr\")\n",
        "print(fpr)\n",
        "print(\"f1_score\")\n",
        "print(f1_score)"
      ],
      "execution_count": 0,
      "outputs": [
        {
          "output_type": "stream",
          "text": [
            "ERRORRATE\n",
            "0.12966666666666668\n",
            "accuracy\n",
            "0.8703333333333333\n",
            "sensitivity\n",
            "0.8225612203934163\n",
            "specificity\n",
            "0.9177627208715292\n",
            "precision\n",
            "0.9085131540053207\n",
            "fpr\n",
            "0.08223727912847079\n",
            "f1_score\n",
            "0.8634033288854556\n"
          ],
          "name": "stdout"
        }
      ]
    }
  ]
}