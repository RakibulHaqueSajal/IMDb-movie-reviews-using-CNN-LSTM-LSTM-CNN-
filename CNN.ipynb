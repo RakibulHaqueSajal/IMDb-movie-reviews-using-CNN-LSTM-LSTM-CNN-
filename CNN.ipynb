{
  "nbformat": 4,
  "nbformat_minor": 0,
  "metadata": {
    "colab": {
      "name": "Thesis1.ipynb",
      "version": "0.3.2",
      "provenance": []
    },
    "kernelspec": {
      "name": "python3",
      "display_name": "Python 3"
    },
    "accelerator": "GPU"
  },
  "cells": [
    {
      "cell_type": "code",
      "metadata": {
        "id": "T9H1Yz-OTRup",
        "colab_type": "code",
        "colab": {}
      },
      "source": [
        ""
      ],
      "execution_count": 0,
      "outputs": []
    },
    {
      "cell_type": "code",
      "metadata": {
        "id": "-UvwIs7L_4DG",
        "colab_type": "code",
        "colab": {}
      },
      "source": [
        ""
      ],
      "execution_count": 0,
      "outputs": []
    },
    {
      "cell_type": "code",
      "metadata": {
        "id": "G7xUW3HTTSmz",
        "colab_type": "code",
        "outputId": "114f77e6-ef00-4b5e-8129-1080bd2f96a5",
        "colab": {
          "base_uri": "https://localhost:8080/",
          "height": 34
        }
      },
      "source": [
        "\n",
        "import numpy\n",
        "from keras.datasets import imdb\n",
        "from keras.models import Sequential\n",
        "from keras.layers import Dense,Dropout\n",
        "from keras.layers import Flatten\n",
        "from keras.layers.convolutional import Conv1D\n",
        "from keras.layers.convolutional import MaxPooling1D\n",
        "from keras.layers.embeddings import Embedding\n",
        "from keras.preprocessing import sequence\n",
        "# fix random seed for reproducibility\n",
        "seed = 7\n",
        "numpy.random.seed(seed)"
      ],
      "execution_count": 0,
      "outputs": [
        {
          "output_type": "stream",
          "text": [
            "Using TensorFlow backend.\n"
          ],
          "name": "stderr"
        }
      ]
    },
    {
      "cell_type": "code",
      "metadata": {
        "id": "WZZRwa5QWLeG",
        "colab_type": "code",
        "outputId": "a3180811-e17b-408f-ac47-a83a6c2c6253",
        "colab": {
          "base_uri": "https://localhost:8080/",
          "height": 51
        }
      },
      "source": [
        "\n",
        "# load the dataset but only keep the top n words, zero the rest\n",
        "top_words = 8000\n",
        "(X_train, y_train), (X_test, y_test) = imdb.load_data(num_words=top_words)\n",
        "\n",
        "\n",
        "# pad dataset to a maximum review length in words\n",
        "max_words = 500\n",
        "X_train = sequence.pad_sequences(X_train, maxlen=max_words)\n",
        "X_test = sequence.pad_sequences(X_test, maxlen=max_words)\n",
        "\n",
        "X = numpy.concatenate((X_train, X_test), axis=0)\n",
        "y = numpy.concatenate((y_train, y_test), axis=0)\n",
        "X_train=X[0:35000]\n",
        "X_test=X[35000:]\n",
        "y_train=y[0:35000]\n",
        "y_test=y[35000: ] "
      ],
      "execution_count": 0,
      "outputs": [
        {
          "output_type": "stream",
          "text": [
            "Downloading data from https://s3.amazonaws.com/text-datasets/imdb.npz\n",
            "17465344/17464789 [==============================] - 2s 0us/step\n"
          ],
          "name": "stdout"
        }
      ]
    },
    {
      "cell_type": "code",
      "metadata": {
        "id": "5LvLK5LicpnP",
        "colab_type": "code",
        "outputId": "f1cc17ad-afd1-40a9-bb7a-51b4150594e2",
        "colab": {
          "base_uri": "https://localhost:8080/",
          "height": 615
        }
      },
      "source": [
        "model = Sequential()\n",
        "model.add(Embedding(top_words, 300, input_length=max_words))\n",
        "model.add(Conv1D(filters=256, kernel_size=3, padding='same', activation='relu'))\n",
        "model.add(MaxPooling1D(pool_size=2))\n",
        "model.add(Conv1D(filters=128, kernel_size=3, padding='same', activation='relu'))\n",
        "model.add(MaxPooling1D(pool_size=2))\n",
        "model.add(Flatten())\n",
        "model.add(Dropout(.8))\n",
        "model.add(Dense(250, activation='relu'))\n",
        "model.add(Dropout(.8))\n",
        "model.add(Dense(1, activation='sigmoid'))\n",
        "model.compile(loss='binary_crossentropy', optimizer='adam', metrics=['accuracy'])\n",
        "print(model.summary())"
      ],
      "execution_count": 0,
      "outputs": [
        {
          "output_type": "stream",
          "text": [
            "WARNING:tensorflow:From /usr/local/lib/python3.6/dist-packages/tensorflow/python/framework/op_def_library.py:263: colocate_with (from tensorflow.python.framework.ops) is deprecated and will be removed in a future version.\n",
            "Instructions for updating:\n",
            "Colocations handled automatically by placer.\n",
            "WARNING:tensorflow:From /usr/local/lib/python3.6/dist-packages/keras/backend/tensorflow_backend.py:3445: calling dropout (from tensorflow.python.ops.nn_ops) with keep_prob is deprecated and will be removed in a future version.\n",
            "Instructions for updating:\n",
            "Please use `rate` instead of `keep_prob`. Rate should be set to `rate = 1 - keep_prob`.\n",
            "_________________________________________________________________\n",
            "Layer (type)                 Output Shape              Param #   \n",
            "=================================================================\n",
            "embedding_1 (Embedding)      (None, 500, 300)          2400000   \n",
            "_________________________________________________________________\n",
            "conv1d_1 (Conv1D)            (None, 500, 256)          230656    \n",
            "_________________________________________________________________\n",
            "max_pooling1d_1 (MaxPooling1 (None, 250, 256)          0         \n",
            "_________________________________________________________________\n",
            "conv1d_2 (Conv1D)            (None, 250, 128)          98432     \n",
            "_________________________________________________________________\n",
            "max_pooling1d_2 (MaxPooling1 (None, 125, 128)          0         \n",
            "_________________________________________________________________\n",
            "flatten_1 (Flatten)          (None, 16000)             0         \n",
            "_________________________________________________________________\n",
            "dropout_1 (Dropout)          (None, 16000)             0         \n",
            "_________________________________________________________________\n",
            "dense_1 (Dense)              (None, 250)               4000250   \n",
            "_________________________________________________________________\n",
            "dropout_2 (Dropout)          (None, 250)               0         \n",
            "_________________________________________________________________\n",
            "dense_2 (Dense)              (None, 1)                 251       \n",
            "=================================================================\n",
            "Total params: 6,729,589\n",
            "Trainable params: 6,729,589\n",
            "Non-trainable params: 0\n",
            "_________________________________________________________________\n",
            "None\n"
          ],
          "name": "stdout"
        }
      ]
    },
    {
      "cell_type": "code",
      "metadata": {
        "id": "-DEYD77oc_YY",
        "colab_type": "code",
        "outputId": "5d05c014-52a5-458a-defe-b8ba7ccb5841",
        "colab": {
          "base_uri": "https://localhost:8080/",
          "height": 394
        }
      },
      "source": [
        "history=model.fit(X_train, y_train, validation_split=0.2, epochs=8, batch_size=128, verbose=1)\n",
        "# Final evaluation of the model\n",
        "scores = model.evaluate(X_test, y_test, verbose=0)\n",
        "print(\"Accuracy: %.2f%%\" % (scores[1]*100))"
      ],
      "execution_count": 0,
      "outputs": [
        {
          "output_type": "stream",
          "text": [
            "WARNING:tensorflow:From /usr/local/lib/python3.6/dist-packages/tensorflow/python/ops/math_ops.py:3066: to_int32 (from tensorflow.python.ops.math_ops) is deprecated and will be removed in a future version.\n",
            "Instructions for updating:\n",
            "Use tf.cast instead.\n",
            "Train on 28000 samples, validate on 7000 samples\n",
            "Epoch 1/8\n",
            "28000/28000 [==============================] - 28s 1ms/step - loss: 0.5662 - acc: 0.6562 - val_loss: 0.2780 - val_acc: 0.8831\n",
            "Epoch 2/8\n",
            "28000/28000 [==============================] - 22s 792us/step - loss: 0.2726 - acc: 0.8933 - val_loss: 0.2724 - val_acc: 0.8854\n",
            "Epoch 3/8\n",
            "28000/28000 [==============================] - 22s 794us/step - loss: 0.1955 - acc: 0.9255 - val_loss: 0.2839 - val_acc: 0.8843\n",
            "Epoch 4/8\n",
            "28000/28000 [==============================] - 22s 798us/step - loss: 0.1440 - acc: 0.9456 - val_loss: 0.3191 - val_acc: 0.8906\n",
            "Epoch 5/8\n",
            "28000/28000 [==============================] - 22s 793us/step - loss: 0.1146 - acc: 0.9581 - val_loss: 0.3241 - val_acc: 0.8886\n",
            "Epoch 6/8\n",
            "28000/28000 [==============================] - 22s 796us/step - loss: 0.0826 - acc: 0.9712 - val_loss: 0.3612 - val_acc: 0.8859\n",
            "Epoch 7/8\n",
            "28000/28000 [==============================] - 22s 792us/step - loss: 0.0668 - acc: 0.9754 - val_loss: 0.4620 - val_acc: 0.8846\n",
            "Epoch 8/8\n",
            "28000/28000 [==============================] - 22s 794us/step - loss: 0.0639 - acc: 0.9777 - val_loss: 0.4201 - val_acc: 0.8877\n",
            "Accuracy: 89.12%\n"
          ],
          "name": "stdout"
        }
      ]
    },
    {
      "cell_type": "code",
      "metadata": {
        "id": "MWUQpGcHGhzp",
        "colab_type": "code",
        "colab": {}
      },
      "source": [
        "test_size=15000\n",
        "for i in range(test_size):\n",
        "    if y_pred[i]>0.4:\n",
        "        y_pred[i]=1\n",
        "    else:\n",
        "        y_pred[i]=0"
      ],
      "execution_count": 0,
      "outputs": []
    },
    {
      "cell_type": "code",
      "metadata": {
        "id": "STerqH8sGll4",
        "colab_type": "code",
        "outputId": "b16b953f-83ac-4acc-8376-2708fc9cb97c",
        "colab": {
          "base_uri": "https://localhost:8080/",
          "height": 51
        }
      },
      "source": [
        "from sklearn.metrics import confusion_matrix\n",
        "cm=confusion_matrix(y_test,y_pred)\n",
        "print(cm)"
      ],
      "execution_count": 0,
      "outputs": [
        {
          "output_type": "stream",
          "text": [
            "[[7085  388]\n",
            " [1222 6305]]\n"
          ],
          "name": "stdout"
        }
      ]
    },
    {
      "cell_type": "code",
      "metadata": {
        "id": "zccZlAZI_NeD",
        "colab_type": "code",
        "colab": {}
      },
      "source": [
        "tp=cm[0][0]\n",
        "fn=cm[0][1]\n",
        "fp=cm[1][0]\n",
        "tn=cm[1][1]\n",
        "\n",
        "errorrate=((fp+fn)/(tp+fn+fp+tn))\n",
        "accuracy=((tp+tn)/(tp+fn+fp+tn))\n",
        "sensitivity=(tp/(tp+fn))\n",
        "specificity=(tn/(tn+fp))\n",
        "precision=(tp/(tp+fp))\n",
        "fpr=1-specificity\n",
        "f1_score=(2*precision*sensitivity)/(precision +sensitivity)"
      ],
      "execution_count": 0,
      "outputs": []
    },
    {
      "cell_type": "code",
      "metadata": {
        "id": "WhifQ8EKG27O",
        "colab_type": "code",
        "outputId": "1d1a5990-e10f-43d9-f850-230d2e54c044",
        "colab": {
          "base_uri": "https://localhost:8080/",
          "height": 255
        }
      },
      "source": [
        "print(\"ERRORRATE\")\n",
        "print(errorrate)\n",
        "print(\"accuracy\")\n",
        "print(accuracy)\n",
        "print(\"sensitivity\")\n",
        "print(sensitivity)\n",
        "print(\"specificity\")\n",
        "print(specificity)\n",
        "print(\"precision\")\n",
        "print(precision)\n",
        "print(\"fpr\")\n",
        "print(fpr)\n",
        "print(\"f1_score\")\n",
        "print(f1_score)"
      ],
      "execution_count": 0,
      "outputs": [
        {
          "output_type": "stream",
          "text": [
            "ERRORRATE\n",
            "0.10733333333333334\n",
            "accuracy\n",
            "0.8926666666666667\n",
            "sensitivity\n",
            "0.9480797537802756\n",
            "specificity\n",
            "0.8376511226252159\n",
            "precision\n",
            "0.8528951486697965\n",
            "fpr\n",
            "0.1623488773747841\n",
            "f1_score\n",
            "0.8979721166032953\n"
          ],
          "name": "stdout"
        }
      ]
    },
    {
      "cell_type": "code",
      "metadata": {
        "id": "rfFxoTVkBvwP",
        "colab_type": "code",
        "colab": {}
      },
      "source": [
        "from google.colab import files\n",
        "cnnmodel_json = model.to_json()\n",
        "\n",
        "with open('cnnmodel.json', 'w') as f:\n",
        "  f.write('cnnmodel.json')\n",
        "\n",
        "files.download('cnnmodel.json')\n"
      ],
      "execution_count": 0,
      "outputs": []
    },
    {
      "cell_type": "code",
      "metadata": {
        "id": "tilpPUVhCRf8",
        "colab_type": "code",
        "outputId": "4579444f-2603-4069-8db7-271e4305b27b",
        "colab": {
          "base_uri": "https://localhost:8080/",
          "height": 442
        }
      },
      "source": [
        "files.download('my_model.h5')"
      ],
      "execution_count": 0,
      "outputs": [
        {
          "output_type": "stream",
          "text": [
            "----------------------------------------\n",
            "Exception happened during processing of request from ('::ffff:127.0.0.1', 54360, 0, 0)\n",
            "Traceback (most recent call last):\n",
            "  File \"/usr/lib/python3.6/socketserver.py\", line 317, in _handle_request_noblock\n",
            "    self.process_request(request, client_address)\n",
            "  File \"/usr/lib/python3.6/socketserver.py\", line 348, in process_request\n",
            "    self.finish_request(request, client_address)\n",
            "  File \"/usr/lib/python3.6/socketserver.py\", line 361, in finish_request\n",
            "    self.RequestHandlerClass(request, client_address, self)\n",
            "  File \"/usr/lib/python3.6/socketserver.py\", line 721, in __init__\n",
            "    self.handle()\n",
            "  File \"/usr/lib/python3.6/http/server.py\", line 418, in handle\n",
            "    self.handle_one_request()\n",
            "  File \"/usr/lib/python3.6/http/server.py\", line 406, in handle_one_request\n",
            "    method()\n",
            "  File \"/usr/lib/python3.6/http/server.py\", line 639, in do_GET\n",
            "    self.copyfile(f, self.wfile)\n",
            "  File \"/usr/lib/python3.6/http/server.py\", line 800, in copyfile\n",
            "    shutil.copyfileobj(source, outputfile)\n",
            "  File \"/usr/lib/python3.6/shutil.py\", line 82, in copyfileobj\n",
            "    fdst.write(buf)\n",
            "  File \"/usr/lib/python3.6/socketserver.py\", line 800, in write\n",
            "    self._sock.sendall(b)\n",
            "ConnectionResetError: [Errno 104] Connection reset by peer\n",
            "----------------------------------------\n"
          ],
          "name": "stderr"
        }
      ]
    },
    {
      "cell_type": "code",
      "metadata": {
        "id": "BQXtcexzFPzq",
        "colab_type": "code",
        "colab": {}
      },
      "source": [
        ""
      ],
      "execution_count": 0,
      "outputs": []
    }
  ]
}