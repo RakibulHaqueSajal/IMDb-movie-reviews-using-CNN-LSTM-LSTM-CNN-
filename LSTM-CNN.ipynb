{
  "nbformat": 4,
  "nbformat_minor": 0,
  "metadata": {
    "colab": {
      "name": "Copy of Thesis3 .ipynb",
      "version": "0.3.2",
      "provenance": []
    },
    "kernelspec": {
      "name": "python3",
      "display_name": "Python 3"
    }
  },
  "cells": [
    {
      "cell_type": "code",
      "metadata": {
        "id": "57Mu1YzbGgs9",
        "colab_type": "code",
        "outputId": "0f379414-6100-4273-84fc-2257e4be3c45",
        "colab": {
          "base_uri": "https://localhost:8080/",
          "height": 34
        }
      },
      "source": [
        "\n",
        "import numpy\n",
        "from keras.datasets import imdb\n",
        "from keras.models import Sequential\n",
        "from keras.layers import Dense,Dropout\n",
        "from keras.layers import Flatten\n",
        "from keras.layers.convolutional import Conv1D\n",
        "from keras.layers.convolutional import MaxPooling1D\n",
        "from keras.layers.embeddings import Embedding\n",
        "from keras.preprocessing import sequence\n",
        "from keras.layers import LSTM\n",
        "# fix random seed for reproducibility\n",
        "seed = 7\n",
        "numpy.random.seed(seed)"
      ],
      "execution_count": 0,
      "outputs": [
        {
          "output_type": "stream",
          "text": [
            "Using TensorFlow backend.\n"
          ],
          "name": "stderr"
        }
      ]
    },
    {
      "cell_type": "code",
      "metadata": {
        "id": "d4UOYw0GGqzG",
        "colab_type": "code",
        "colab": {}
      },
      "source": [
        "# load the dataset but only keep the top n words, zero the rest\n",
        "top_words = 8000\n",
        "(X_train, y_train), (X_test, y_test) = imdb.load_data(num_words=top_words)\n",
        "\n",
        "\n",
        "# pad dataset to a maximum review length in words\n",
        "max_words = 500\n",
        "X_train = sequence.pad_sequences(X_train, maxlen=max_words)\n",
        "X_test = sequence.pad_sequences(X_test, maxlen=max_words)\n",
        "\n",
        "X = numpy.concatenate((X_train, X_test), axis=0)\n",
        "y = numpy.concatenate((y_train, y_test), axis=0)\n",
        "X_train=X[0:35000]\n",
        "X_test=X[35000:]\n",
        "y_train=y[0:35000]\n",
        "y_test=y[35000: ] "
      ],
      "execution_count": 0,
      "outputs": []
    },
    {
      "cell_type": "code",
      "metadata": {
        "id": "0cHXtj9-Gw2X",
        "colab_type": "code",
        "colab": {}
      },
      "source": [
        "def create_conv_model():\n",
        "    model_conv = Sequential()\n",
        "    model_conv.add(Embedding(top_words, 100, input_length=max_words))\n",
        "    model_conv.add(LSTM(100,return_sequences=True))\n",
        "    model_conv.add(Conv1D(64, 3, padding='same',activation='relu'))\n",
        "    model_conv.add(MaxPooling1D(pool_size=2))\n",
        "    model_conv.add(Flatten())\n",
        "    model_conv.add(Dropout(0.8))\n",
        "    model_conv.add(Dense(250, activation='relu'))\n",
        "    model_conv.add(Dropout(0.8))\n",
        "    model_conv.add(Dense(1, activation='sigmoid'))\n",
        "    model_conv.compile(loss='binary_crossentropy', optimizer='adam', metrics=['accuracy'])\n",
        "    return model_conv\n"
      ],
      "execution_count": 0,
      "outputs": []
    },
    {
      "cell_type": "code",
      "metadata": {
        "id": "DRujSm8xHqSu",
        "colab_type": "code",
        "outputId": "2ca9d4c3-a343-4b86-8da7-c7b70fd63f6e",
        "colab": {
          "base_uri": "https://localhost:8080/",
          "height": 564
        }
      },
      "source": [
        "model1=create_conv_model()\n",
        "model1.summary()"
      ],
      "execution_count": 0,
      "outputs": [
        {
          "output_type": "stream",
          "text": [
            "WARNING:tensorflow:From /usr/local/lib/python3.6/dist-packages/tensorflow/python/framework/op_def_library.py:263: colocate_with (from tensorflow.python.framework.ops) is deprecated and will be removed in a future version.\n",
            "Instructions for updating:\n",
            "Colocations handled automatically by placer.\n",
            "WARNING:tensorflow:From /usr/local/lib/python3.6/dist-packages/keras/backend/tensorflow_backend.py:3445: calling dropout (from tensorflow.python.ops.nn_ops) with keep_prob is deprecated and will be removed in a future version.\n",
            "Instructions for updating:\n",
            "Please use `rate` instead of `keep_prob`. Rate should be set to `rate = 1 - keep_prob`.\n",
            "_________________________________________________________________\n",
            "Layer (type)                 Output Shape              Param #   \n",
            "=================================================================\n",
            "embedding_1 (Embedding)      (None, 500, 100)          800000    \n",
            "_________________________________________________________________\n",
            "lstm_1 (LSTM)                (None, 500, 100)          80400     \n",
            "_________________________________________________________________\n",
            "conv1d_1 (Conv1D)            (None, 500, 64)           19264     \n",
            "_________________________________________________________________\n",
            "max_pooling1d_1 (MaxPooling1 (None, 250, 64)           0         \n",
            "_________________________________________________________________\n",
            "flatten_1 (Flatten)          (None, 16000)             0         \n",
            "_________________________________________________________________\n",
            "dropout_1 (Dropout)          (None, 16000)             0         \n",
            "_________________________________________________________________\n",
            "dense_1 (Dense)              (None, 250)               4000250   \n",
            "_________________________________________________________________\n",
            "dropout_2 (Dropout)          (None, 250)               0         \n",
            "_________________________________________________________________\n",
            "dense_2 (Dense)              (None, 1)                 251       \n",
            "=================================================================\n",
            "Total params: 4,900,165\n",
            "Trainable params: 4,900,165\n",
            "Non-trainable params: 0\n",
            "_________________________________________________________________\n"
          ],
          "name": "stdout"
        }
      ]
    },
    {
      "cell_type": "code",
      "metadata": {
        "id": "cgB5YX9rHCGV",
        "colab_type": "code",
        "outputId": "3f57e1b3-5ee4-4f5f-fb3b-ccae43913999",
        "colab": {
          "base_uri": "https://localhost:8080/",
          "height": 241
        }
      },
      "source": [
        "model1 = create_conv_model()\n",
        "\n",
        "# Fit the model\n",
        "print('model compiled')\n",
        "model1.fit(X_train, y_train, validation_split=0.2, epochs=3, batch_size=128, verbose=2)\n",
        "# Final evaluation of the model\n",
        "scores = model1.evaluate(X_test, y_test, verbose=0)\n",
        "print(\"Accuracy: %.2f%%\" % (scores[1]*100))"
      ],
      "execution_count": 0,
      "outputs": [
        {
          "output_type": "stream",
          "text": [
            "model compiled\n",
            "WARNING:tensorflow:From /usr/local/lib/python3.6/dist-packages/tensorflow/python/ops/math_ops.py:3066: to_int32 (from tensorflow.python.ops.math_ops) is deprecated and will be removed in a future version.\n",
            "Instructions for updating:\n",
            "Use tf.cast instead.\n",
            "Train on 28000 samples, validate on 7000 samples\n",
            "Epoch 1/3\n",
            " - 489s - loss: 0.4656 - acc: 0.7486 - val_loss: 0.2896 - val_acc: 0.8794\n",
            "Epoch 2/3\n",
            " - 487s - loss: 0.2265 - acc: 0.9134 - val_loss: 0.3021 - val_acc: 0.8777\n",
            "Epoch 3/3\n",
            " - 487s - loss: 0.1712 - acc: 0.9352 - val_loss: 0.2976 - val_acc: 0.8824\n",
            "Accuracy: 88.49%\n"
          ],
          "name": "stdout"
        }
      ]
    },
    {
      "cell_type": "code",
      "metadata": {
        "id": "ZkmFlHmlBAvt",
        "colab_type": "code",
        "colab": {}
      },
      "source": [
        "y_pred=model1.predict_proba(X_test)"
      ],
      "execution_count": 0,
      "outputs": []
    },
    {
      "cell_type": "code",
      "metadata": {
        "id": "G-XwWNUVBpFQ",
        "colab_type": "code",
        "colab": {}
      },
      "source": [
        "test_size=15000\n",
        "for i in range(test_size):\n",
        "    if y_pred[i]>0.4:\n",
        "        y_pred[i]=1\n",
        "    else:\n",
        "        y_pred[i]=0"
      ],
      "execution_count": 0,
      "outputs": []
    },
    {
      "cell_type": "code",
      "metadata": {
        "id": "ADfcNX9ZB0xG",
        "colab_type": "code",
        "outputId": "133b54f4-a4e5-4609-c7c9-e47f44c51c5e",
        "colab": {
          "base_uri": "https://localhost:8080/",
          "height": 51
        }
      },
      "source": [
        "from sklearn.metrics import confusion_matrix\n",
        "cm=confusion_matrix(y_test,y_pred)\n",
        "print(cm)"
      ],
      "execution_count": 0,
      "outputs": [
        {
          "output_type": "stream",
          "text": [
            "[[6750  723]\n",
            " [ 963 6564]]\n"
          ],
          "name": "stdout"
        }
      ]
    },
    {
      "cell_type": "code",
      "metadata": {
        "id": "H8YWven3CDtb",
        "colab_type": "code",
        "colab": {}
      },
      "source": [
        "tp=cm[0][0]\n",
        "fn=cm[0][1]\n",
        "fp=cm[1][0]\n",
        "tn=cm[1][1]\n",
        "\n",
        "errorrate=((fp+fn)/(tp+fn+fp+tn))\n",
        "accuracy=((tp+tn)/(tp+fn+fp+tn))\n",
        "sensitivity=(tp/(tp+fn))\n",
        "specificity=(tn/(tn+fp))\n",
        "precision=(tp/(tp+fp))\n",
        "fpr=1-specificity\n",
        "f1_score=(2*precision*sensitivity)/(precision +sensitivity)\n",
        "\n",
        "\n",
        "\n",
        "\n",
        "\n"
      ],
      "execution_count": 0,
      "outputs": []
    },
    {
      "cell_type": "code",
      "metadata": {
        "id": "7rCRTiy9FQPQ",
        "colab_type": "code",
        "outputId": "893c9273-75dc-47d7-e8b1-bc336bb12b57",
        "colab": {
          "base_uri": "https://localhost:8080/",
          "height": 255
        }
      },
      "source": [
        "print(\"ERRORRATE\")\n",
        "print(errorrate)\n",
        "print(\"accuracy\")\n",
        "print(accuracy)\n",
        "print(\"sensitivity\")\n",
        "print(sensitivity)\n",
        "print(\"specificity\")\n",
        "print(specificity)\n",
        "print(\"precision\")\n",
        "print(precision)\n",
        "print(\"fpr\")\n",
        "print(fpr)\n",
        "print(\"f1_score\")\n",
        "print(f1_score)"
      ],
      "execution_count": 0,
      "outputs": [
        {
          "output_type": "stream",
          "text": [
            "ERRORRATE\n",
            "0.1124\n",
            "accuracy\n",
            "0.8876\n",
            "sensitivity\n",
            "0.9032517061421116\n",
            "specificity\n",
            "0.8720605819051415\n",
            "precision\n",
            "0.8751458576429405\n",
            "fpr\n",
            "0.12793941809485854\n",
            "f1_score\n",
            "0.8889766890557093\n"
          ],
          "name": "stdout"
        }
      ]
    }
  ]
}